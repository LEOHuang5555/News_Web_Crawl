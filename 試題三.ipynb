{
 "cells": [
  {
   "cell_type": "code",
   "execution_count": 5,
   "metadata": {},
   "outputs": [],
   "source": [
    "import pandas as pd\n",
    "import requests as rq\n",
    "from bs4 import BeautifulSoup as bs\n",
    "import re"
   ]
  },
  {
   "attachments": {},
   "cell_type": "markdown",
   "metadata": {},
   "source": [
    "## STEP.1 \n",
    "### 自結損益爬蟲\n",
    "### issue1:2882公布月自結非季自結，2330和1301皆公布季自結 (sloved)\n",
    "### issue2:自結EPS 不在自結損益公告項目內，目前無法解決"
   ]
  },
  {
   "cell_type": "code",
   "execution_count": 2,
   "metadata": {},
   "outputs": [],
   "source": [
    "mops_url = 'https://mops.twse.com.tw/mops/web/ajax_t138sb02'"
   ]
  },
  {
   "cell_type": "code",
   "execution_count": 1,
   "metadata": {},
   "outputs": [],
   "source": [
    "class crawl_self_acc():\n",
    "    def __init__(self, url, stk, year):\n",
    "        self.url = url\n",
    "        self.stk = stk\n",
    "        self.year = year\n",
    "        self.freq = 'Q'\n",
    "    def get_payload(self):\n",
    "        self.payload = {\n",
    "                'encodeURIComponent':'1',\n",
    "                'run':'Y',\n",
    "                'step': '1',\n",
    "                'CK2': '3',\n",
    "                'BK1': '2',\n",
    "                'TYPEK':'sii', \n",
    "                'YEAR':self.year, \n",
    "                'COMP': self.stk,\n",
    "                'firstin': 'true'\n",
    "        }\n",
    "        if self.freq == 'M':\n",
    "            self.payload['CK2'] = '1' \n",
    "\n",
    "    def get_response(self):\n",
    "        self.get_payload()\n",
    "        self.response = rq.get(self.url, params=self.payload)\n",
    "        self.soup = bs(self.response.content, 'html.parser') \n",
    "    \n",
    "    def extract_number(self, lst):\n",
    "        def extract_num(item):\n",
    "            item = str(item)\n",
    "            number = re.search(r'\\d[\\d,]*\\d', item).group()\n",
    "            number_str = number.replace(',','').replace('-','')\n",
    "            number = int(number_str)\n",
    "            if '-' in item:\n",
    "                number = (-1)*number\n",
    "            return number\n",
    "        numbers = list(map(extract_num, lst))\n",
    "        return sum(numbers) \n",
    "    \n",
    "    def get_self_acc_sales(self):\n",
    "        self.get_response()\n",
    "        if len(self.soup.find_all('font',{'color':'red'})) > 0:\n",
    "            self.freq = 'M'\n",
    "            self.get_response()\n",
    "\n",
    "        self_acc_sales = self.soup.find_all('td',{'align':'right', 'class':'odd', 'width':''})\n",
    "        # 最新一季資料\n",
    "        if self.freq == 'Q':\n",
    "            latest = self.extract_number(self_acc_sales[-1])\n",
    "        else:\n",
    "            latest = self.extract_number(self_acc_sales[-3:])\n",
    "\n",
    "        code_name = [i for i in self.soup.find_all('h3') if '公司名稱' in str(i)]\n",
    "        # 取得 股票名稱\n",
    "        # \\n表示換行\n",
    "        temp = str(code_name[0]).split('\\r\\n')[1]\n",
    "        self.name = temp.split(' ')[0]\n",
    "        #\n",
    "        data = {\n",
    "            '代碼':self.stk,\n",
    "            '股名':self.name,\n",
    "            '自結上一季獲利':latest\n",
    "        }\n",
    "        result = pd.DataFrame([data])\n",
    "        return result"
   ]
  },
  {
   "cell_type": "code",
   "execution_count": 3,
   "metadata": {},
   "outputs": [],
   "source": [
    "trigger = crawl_self_acc(mops_url, '2882', '111')"
   ]
  },
  {
   "cell_type": "code",
   "execution_count": 8,
   "metadata": {},
   "outputs": [
    {
     "data": {
      "text/html": [
       "<div>\n",
       "<style scoped>\n",
       "    .dataframe tbody tr th:only-of-type {\n",
       "        vertical-align: middle;\n",
       "    }\n",
       "\n",
       "    .dataframe tbody tr th {\n",
       "        vertical-align: top;\n",
       "    }\n",
       "\n",
       "    .dataframe thead th {\n",
       "        text-align: right;\n",
       "    }\n",
       "</style>\n",
       "<table border=\"1\" class=\"dataframe\">\n",
       "  <thead>\n",
       "    <tr style=\"text-align: right;\">\n",
       "      <th></th>\n",
       "      <th>代碼</th>\n",
       "      <th>股名</th>\n",
       "      <th>自結上一季獲利</th>\n",
       "    </tr>\n",
       "  </thead>\n",
       "  <tbody>\n",
       "    <tr>\n",
       "      <th>0</th>\n",
       "      <td>2882</td>\n",
       "      <td>國泰金</td>\n",
       "      <td>-20543450</td>\n",
       "    </tr>\n",
       "    <tr>\n",
       "      <th>1</th>\n",
       "      <td>2330</td>\n",
       "      <td>台積電</td>\n",
       "      <td>334669874</td>\n",
       "    </tr>\n",
       "    <tr>\n",
       "      <th>2</th>\n",
       "      <td>1301</td>\n",
       "      <td>台塑</td>\n",
       "      <td>-7305379</td>\n",
       "    </tr>\n",
       "  </tbody>\n",
       "</table>\n",
       "</div>"
      ],
      "text/plain": [
       "     代碼   股名    自結上一季獲利\n",
       "0  2882  國泰金  -20543450\n",
       "1  2330  台積電  334669874\n",
       "2  1301   台塑   -7305379"
      ]
     },
     "execution_count": 8,
     "metadata": {},
     "output_type": "execute_result"
    }
   ],
   "source": [
    "data = pd.DataFrame()\n",
    "stks = ['2882','2330','1301']\n",
    "for stk in stks:\n",
    "    trigger = crawl_self_acc(mops_url, stk, '111')\n",
    "    temp = trigger.get_self_acc_sales()\n",
    "    data = pd.concat([data, temp])\n",
    "data = data.reset_index(drop=True)\n",
    "data\n"
   ]
  },
  {
   "cell_type": "code",
   "execution_count": 10,
   "metadata": {},
   "outputs": [],
   "source": [
    "# def get_self_acc_sales(stk, year):\n",
    "#     # 公開資訊觀測站 自結損益公告-季申報\n",
    "#     url = 'https://mops.twse.com.tw/mops/web/ajax_t138sb02'\n",
    "        \n",
    "#     # 先從季公告開始，若季公告沒資料則去爬月公告\n",
    "#     freq = 'Q'\n",
    "#     soup = request_url(url, stk, year, freq)\n",
    "#     if len(soup.find_all('font',{'color':'red'})) > 0:\n",
    "#         freq = 'M'\n",
    "#         soup = request_url(url, stk, year, freq)\n",
    "#         # print(soup)\n",
    "#     self_acc_sales = soup.find_all('td',{'align':'right', 'class':'odd', 'width':''})\n",
    "#     # 最新一季資料\n",
    "#     if freq == 'Q':\n",
    "#         latest = extract_number(self_acc_sales[-1])\n",
    "#     else:\n",
    "#         latest = extract_number(self_acc_sales[-3:])\n",
    "\n",
    "#     code_name = [i for i in soup.find_all('h3') if '公司名稱' in str(i)]\n",
    "#     # 取得 股票名稱\n",
    "#     # \\n表示換行\n",
    "#     temp = str(code_name[0]).split('\\r\\n')[1]\n",
    "#     name = temp.split(' ')[0]\n",
    "#     #\n",
    "#     data = {\n",
    "#         '代碼':stk,\n",
    "#         '股名':name,\n",
    "#         '自結上一季獲利':latest\n",
    "#     }\n",
    "#     result = pd.DataFrame([data])\n",
    "#     return result\n",
    "\n",
    "# def get_payload(stk, year, freq):\n",
    "#         payload = {\n",
    "#                 'encodeURIComponent':'1',\n",
    "#                 'run':'Y',\n",
    "#                 'step': '1',\n",
    "#                 'CK2': '3',\n",
    "#                 'BK1': '2',\n",
    "#                 'TYPEK':'sii', \n",
    "#                 'YEAR':year, \n",
    "#                 'COMP': stk,\n",
    "#                 'firstin': 'true'\n",
    "#         }\n",
    "#         if freq == 'M':\n",
    "#             payload['CK2'] = '1'\n",
    "#         return payload\n",
    "\n",
    "# def request_url(url, stk, year, freq):\n",
    "#     payload = get_payload(stk, year, freq)\n",
    "#     response = rq.get(url, params=payload)\n",
    "#     soup = bs(response.content, 'html.parser') \n",
    "#     return soup\n",
    "\n",
    "# def extract_number(lst):\n",
    "#     def extract_num(item):\n",
    "#         item = str(item)\n",
    "#         number = re.search(r'\\d[\\d,]*\\d', item).group()\n",
    "#         number_str = number.replace(',','').replace('-','')\n",
    "#         number = int(number_str)\n",
    "#         if '-' in item:\n",
    "#             number = (-1)*number\n",
    "#         return number\n",
    "#     numbers = list(map(extract_num, lst))\n",
    "#     return sum(numbers)"
   ]
  },
  {
   "attachments": {},
   "cell_type": "markdown",
   "metadata": {},
   "source": [
    "## STEP. 2\n",
    "### 資料匯進 excel"
   ]
  },
  {
   "cell_type": "code",
   "execution_count": 105,
   "metadata": {},
   "outputs": [],
   "source": [
    "import openpyxl"
   ]
  },
  {
   "cell_type": "code",
   "execution_count": 100,
   "metadata": {},
   "outputs": [],
   "source": [
    "# 讀取 excel\n",
    "workbook = openpyxl.load_workbook('試題.xlsx')\n",
    "# 選取 試題一 的工作表\n",
    "sheet = workbook.worksheets[2]\n",
    "fill_columns = ['A', 'B','C']\n",
    "for col in fill_columns:\n",
    "    for index in range(len(data)):\n",
    "        sheet[col+str(index+4)] = data.iloc[index, fill_columns.index(col)]"
   ]
  },
  {
   "cell_type": "code",
   "execution_count": 104,
   "metadata": {},
   "outputs": [],
   "source": [
    "# 儲存檔案\n",
    "workbook.save('test.xlsx')"
   ]
  }
 ],
 "metadata": {
  "kernelspec": {
   "display_name": "base",
   "language": "python",
   "name": "python3"
  },
  "language_info": {
   "codemirror_mode": {
    "name": "ipython",
    "version": 3
   },
   "file_extension": ".py",
   "mimetype": "text/x-python",
   "name": "python",
   "nbconvert_exporter": "python",
   "pygments_lexer": "ipython3",
   "version": "3.9.12"
  },
  "orig_nbformat": 4,
  "vscode": {
   "interpreter": {
    "hash": "f08154012ddadd8e950e6e9e035c7a7b32c136e7647e9b7c77e02eb723a8bedb"
   }
  }
 },
 "nbformat": 4,
 "nbformat_minor": 2
}
